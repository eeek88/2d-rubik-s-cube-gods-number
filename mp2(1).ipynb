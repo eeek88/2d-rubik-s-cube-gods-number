{
 "cells": [
  {
   "cell_type": "code",
   "execution_count": 1,
   "id": "1d026052",
   "metadata": {},
   "outputs": [],
   "source": [
    "import copy\n",
    "import random"
   ]
  },
  {
   "cell_type": "code",
   "execution_count": 2,
   "id": "af164f2e",
   "metadata": {},
   "outputs": [],
   "source": [
    "M = [[0, 0, 0], [1, 1, 1], [2, 2, 2]]\n",
    "\n",
    "matricies = []"
   ]
  },
  {
   "cell_type": "code",
   "execution_count": 3,
   "id": "364b9544",
   "metadata": {},
   "outputs": [],
   "source": [
    "def rotation(i, j, matrix):\n",
    "    matrix_bak = copy.deepcopy(matrix)\n",
    "    \n",
    "    matrix[0+i][0+j] = matrix_bak[1+i][0+j] # rotation assignments\n",
    "    matrix[0+i][1+j] = matrix_bak[0+i][0+j]\n",
    "    matrix[1+i][0+j] = matrix_bak[1+i][1+j]\n",
    "    matrix[1+i][1+j] = matrix_bak[0+i][1+j]\n",
    "    \n",
    "    return matrix, matrix_bak"
   ]
  },
  {
   "cell_type": "code",
   "execution_count": 4,
   "id": "b7895b47",
   "metadata": {},
   "outputs": [
    {
     "name": "stdout",
     "output_type": "stream",
     "text": [
      "1680\n"
     ]
    }
   ],
   "source": [
    "i = 0\n",
    "while i < 50000: # monte carlo enumeration\n",
    "    rand = random.randint(0, 1)\n",
    "    rand2 = random.randint(0, 1)\n",
    "    \n",
    "    M, N = rotation(rand, rand2, M)\n",
    "    \n",
    "    if N in matricies:\n",
    "        pass\n",
    "    else:\n",
    "        matricies.append(N)\n",
    "        \n",
    "    i+=1\n",
    "print(len(matricies))"
   ]
  },
  {
   "cell_type": "code",
   "execution_count": null,
   "id": "fbadce67",
   "metadata": {},
   "outputs": [],
   "source": []
  },
  {
   "cell_type": "code",
   "execution_count": null,
   "id": "241c30a9",
   "metadata": {},
   "outputs": [],
   "source": []
  },
  {
   "cell_type": "code",
   "execution_count": null,
   "id": "0bc00528",
   "metadata": {},
   "outputs": [],
   "source": []
  },
  {
   "cell_type": "code",
   "execution_count": null,
   "id": "e8abefe0",
   "metadata": {},
   "outputs": [],
   "source": []
  },
  {
   "cell_type": "code",
   "execution_count": null,
   "id": "ace892dd",
   "metadata": {},
   "outputs": [],
   "source": []
  },
  {
   "cell_type": "code",
   "execution_count": null,
   "id": "fc75b08f",
   "metadata": {},
   "outputs": [],
   "source": []
  },
  {
   "cell_type": "code",
   "execution_count": 13,
   "id": "d955fb5c",
   "metadata": {},
   "outputs": [],
   "source": [
    "def rotation(rot, matrix):\n",
    "    matrix_bak = copy.deepcopy(matrix)\n",
    "    if rot == 1:\n",
    "        matrix[0][0] = matrix_bak[1][0]\n",
    "        matrix[0][1] = matrix_bak[0][0]\n",
    "        matrix[1][0] = matrix_bak[1][1]\n",
    "        matrix[1][1] = matrix_bak[0][1]\n",
    "    elif rot == 3:\n",
    "        matrix[1][0] = matrix_bak[2][0]\n",
    "        matrix[1][1] = matrix_bak[1][0]\n",
    "        matrix[2][0] = matrix_bak[2][1]\n",
    "        matrix[2][1] = matrix_bak[1][1]\n",
    "    elif rot == 2:\n",
    "        matrix[0][1] = matrix_bak[1][1]\n",
    "        matrix[0][2] = matrix_bak[0][1]\n",
    "        matrix[1][1] = matrix_bak[1][2]\n",
    "        matrix[1][2] = matrix_bak[0][2]\n",
    "    elif rot == 4:\n",
    "        matrix[1][1] = matrix_bak[2][1]\n",
    "        matrix[1][2] = matrix_bak[1][1]\n",
    "        matrix[2][1] = matrix_bak[2][2]\n",
    "        matrix[2][2] = matrix_bak[1][2]    \n",
    "    return matrix, matrix_bak"
   ]
  },
  {
   "cell_type": "code",
   "execution_count": null,
   "id": "1fed749c",
   "metadata": {},
   "outputs": [],
   "source": [
    "def search(matrix, matricies, steps): # recursive enumeration\n",
    "    steps+=1\n",
    "    \n",
    "    if len(matricies) >= 1680:\n",
    "        pass\n",
    "    \n",
    "    else:\n",
    "        M1 = rotation(0, 0, matrix)[1]\n",
    "        M2 = rotation(0, 1, matrix)[1]\n",
    "        M3 = rotation(1, 0, matrix)[1]\n",
    "        M4 = rotation(1, 1, matrix)[1]\n",
    "\n",
    "        if M1 in matricies:\n",
    "            pass\n",
    "        else: \n",
    "            matricies.append(M1)\n",
    "            search(M1, matricies, steps)\n",
    "\n",
    "        if M2 in matricies:\n",
    "            pass\n",
    "        else: \n",
    "            matricies.append(M2)\n",
    "            search(M2, matricies, steps)\n",
    "\n",
    "        if M3 in matricies:\n",
    "            pass\n",
    "        else: \n",
    "            matricies.append(M3)\n",
    "            search(M3, matricies, steps)\n",
    "\n",
    "        if M4 in matricies:\n",
    "            pass\n",
    "        else: \n",
    "            matricies.append(M4)\n",
    "            search(M4, matricies, steps)\n",
    "    return steps"
   ]
  }
 ],
 "metadata": {
  "kernelspec": {
   "display_name": "Python 3 (ipykernel)",
   "language": "python",
   "name": "python3"
  },
  "language_info": {
   "codemirror_mode": {
    "name": "ipython",
    "version": 3
   },
   "file_extension": ".py",
   "mimetype": "text/x-python",
   "name": "python",
   "nbconvert_exporter": "python",
   "pygments_lexer": "ipython3",
   "version": "3.10.12"
  }
 },
 "nbformat": 4,
 "nbformat_minor": 5
}
