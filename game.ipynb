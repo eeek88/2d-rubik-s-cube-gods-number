{
 "cells": [
  {
   "cell_type": "code",
   "execution_count": 1,
   "id": "1d026052",
   "metadata": {},
   "outputs": [],
   "source": [
    "import copy\n",
    "import random"
   ]
  },
  {
   "cell_type": "code",
   "execution_count": 2,
   "id": "af164f2e",
   "metadata": {},
   "outputs": [],
   "source": [
    "M = [[0, 0, 0], [1, 1, 1], [2, 2, 2]]\n",
    "\n",
    "matricies = []"
   ]
  },
  {
   "cell_type": "code",
   "execution_count": 3,
   "id": "364b9544",
   "metadata": {},
   "outputs": [],
   "source": [
    "def rotation(i, j, matrix):\n",
    "    matrix_bak = copy.deepcopy(matrix)\n",
    "    \n",
    "    matrix[0+i][0+j] = matrix_bak[1+i][0+j] # rotation assignments\n",
    "    matrix[0+i][1+j] = matrix_bak[0+i][0+j]\n",
    "    matrix[1+i][0+j] = matrix_bak[1+i][1+j]\n",
    "    matrix[1+i][1+j] = matrix_bak[0+i][1+j]\n",
    "    \n",
    "    return matrix, matrix_bak"
   ]
  },
  {
   "cell_type": "code",
   "execution_count": 4,
   "id": "b7895b47",
   "metadata": {},
   "outputs": [
    {
     "name": "stdout",
     "output_type": "stream",
     "text": [
      "1680\n"
     ]
    }
   ],
   "source": [
    "i = 0\n",
    "while i < 50000: # monte carlo enumeration\n",
    "    rand = random.randint(0, 1)\n",
    "    rand2 = random.randint(0, 1)\n",
    "    \n",
    "    M, N = rotation(rand, rand2, M)\n",
    "    \n",
    "    if N in matricies:\n",
    "        pass\n",
    "    else:\n",
    "        matricies.append(N)\n",
    "        \n",
    "    i+=1\n",
    "print(len(matricies))"
   ]
  },
  {
   "cell_type": "code",
   "execution_count": 5,
   "id": "fbadce67",
   "metadata": {},
   "outputs": [],
   "source": [
    "graph = {}\n",
    "# games = copy.deepcopy(matricies)\n",
    "\n",
    "for i, j in enumerate(matricies):\n",
    "    m1 = copy.deepcopy(j)\n",
    "    m1 = rotation(0, 0, m1)[0]\n",
    "    \n",
    "    m2 = copy.deepcopy(j)\n",
    "    m2 = rotation(1, 0, m2)[0]\n",
    "    \n",
    "    m3 = copy.deepcopy(j)\n",
    "    m3 = rotation(0, 1, m3)[0]\n",
    "    \n",
    "    m4 = copy.deepcopy(j)\n",
    "    m4 = rotation(1, 1, m4)[0]\n",
    "    \n",
    "    graph[i] = (matricies.index(m1), matricies.index(m2), matricies.index(m3), matricies.index(m4))"
   ]
  },
  {
   "cell_type": "code",
   "execution_count": 6,
   "id": "1457ae60",
   "metadata": {},
   "outputs": [],
   "source": [
    "# print(len(graph))\n",
    "# print(graph) s\n",
    "# consecutive indexed games all included as expected"
   ]
  },
  {
   "cell_type": "code",
   "execution_count": 8,
   "id": "241c30a9",
   "metadata": {},
   "outputs": [],
   "source": [
    "def dijkstra(graph, start):\n",
    "    # Initialize distances to all nodes as infinity except for the start node\n",
    "    distances = {node: float('inf') for node in graph}\n",
    "    distances[start] = 0\n",
    "\n",
    "    # Initialize a set to keep track of visited nodes\n",
    "    visited = set()\n",
    "\n",
    "    while len(visited) < len(graph):\n",
    "        # Find the node with the minimum distance from the start node\n",
    "        current_node = None\n",
    "        for node in graph:\n",
    "            if node not in visited and (current_node is None or distances[node] < distances[current_node]):\n",
    "                current_node = node\n",
    "\n",
    "        # If all remaining unvisited nodes are unreachable, break\n",
    "        if distances[current_node] == float('inf'):\n",
    "            break\n",
    "\n",
    "        visited.add(current_node)\n",
    "\n",
    "        # Update distances to neighbors of the current node\n",
    "        for neighbor in graph[current_node]:\n",
    "            distance = distances[current_node] + 1  # Assuming an unweighted graph\n",
    "            if distance < distances[neighbor]:\n",
    "                distances[neighbor] = distance\n",
    "\n",
    "    return distances"
   ]
  },
  {
   "cell_type": "code",
   "execution_count": 14,
   "id": "0bc00528",
   "metadata": {},
   "outputs": [
    {
     "name": "stdout",
     "output_type": "stream",
     "text": [
      "God's number = 9\n"
     ]
    }
   ],
   "source": [
    "start_node = 0\n",
    "shortest_distances = dijkstra(graph, start_node)\n",
    "\n",
    "gods_number = max(shortest_distances.values())\n",
    "\n",
    "print(f\"God's number = {gods_number}\")"
   ]
  },
  {
   "cell_type": "code",
   "execution_count": null,
   "id": "e8abefe0",
   "metadata": {},
   "outputs": [],
   "source": []
  },
  {
   "cell_type": "code",
   "execution_count": null,
   "id": "ace892dd",
   "metadata": {},
   "outputs": [],
   "source": []
  },
  {
   "cell_type": "code",
   "execution_count": null,
   "id": "fc75b08f",
   "metadata": {},
   "outputs": [],
   "source": []
  }
 ],
 "metadata": {
  "kernelspec": {
   "display_name": "Python 3 (ipykernel)",
   "language": "python",
   "name": "python3"
  },
  "language_info": {
   "codemirror_mode": {
    "name": "ipython",
    "version": 3
   },
   "file_extension": ".py",
   "mimetype": "text/x-python",
   "name": "python",
   "nbconvert_exporter": "python",
   "pygments_lexer": "ipython3",
   "version": "3.10.12"
  }
 },
 "nbformat": 4,
 "nbformat_minor": 5
}
