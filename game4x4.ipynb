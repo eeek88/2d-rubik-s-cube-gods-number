{
  "nbformat": 4,
  "nbformat_minor": 0,
  "metadata": {
    "colab": {
      "provenance": []
    },
    "kernelspec": {
      "name": "python3",
      "display_name": "Python 3"
    },
    "language_info": {
      "name": "python"
    }
  },
  "cells": [
    {
      "cell_type": "code",
      "execution_count": 1,
      "metadata": {
        "id": "3aPld4CMQosQ"
      },
      "outputs": [],
      "source": [
        "import copy\n",
        "import random"
      ]
    },
    {
      "cell_type": "code",
      "source": [
        "M = [[0, 0, 0 ,0], [1, 1, 1, 1], [2, 2, 2, 2], [3, 3, 3 ,3]]\n",
        "\n",
        "matricies = []"
      ],
      "metadata": {
        "id": "OaqBSHHuQx5W"
      },
      "execution_count": 2,
      "outputs": []
    },
    {
      "cell_type": "code",
      "source": [
        "def rotation(i, j, matrix):\n",
        "    matrix_bak = copy.deepcopy(matrix)\n",
        "\n",
        "    matrix[0+i][0+j] = matrix_bak[1+i][0+j] # rotation assignments\n",
        "    matrix[0+i][1+j] = matrix_bak[0+i][0+j]\n",
        "    matrix[1+i][0+j] = matrix_bak[1+i][1+j]\n",
        "    matrix[1+i][1+j] = matrix_bak[0+i][1+j]\n",
        "\n",
        "    return matrix, matrix_bak"
      ],
      "metadata": {
        "id": "MPfBB8nCQx-0"
      },
      "execution_count": 3,
      "outputs": []
    },
    {
      "cell_type": "code",
      "source": [
        "i = 0\n",
        "while i < 50000: # monte carlo enumeration\n",
        "    rand = random.randint(0, 2)\n",
        "    rand2 = random.randint(0, 2)\n",
        "\n",
        "    M, N = rotation(rand, rand2, M)\n",
        "\n",
        "    if N in matricies:\n",
        "        pass\n",
        "    else:\n",
        "        matricies.append(N)\n",
        "\n",
        "    i+=1\n",
        "print(len(matricies))"
      ],
      "metadata": {
        "colab": {
          "base_uri": "https://localhost:8080/"
        },
        "id": "Yl-I6VadQyD-",
        "outputId": "e6fa4516-d643-40c4-ac29-654c3a9e88cf"
      },
      "execution_count": 8,
      "outputs": [
        {
          "output_type": "stream",
          "name": "stdout",
          "text": [
            "166116\n"
          ]
        }
      ]
    },
    {
      "cell_type": "code",
      "source": [
        "graph = {}\n",
        "# games = copy.deepcopy(matricies)\n",
        "\n",
        "for i, j in enumerate(matricies):\n",
        "    m1 = copy.deepcopy(j)\n",
        "    m1 = rotation(0, 0, m1)[0]\n",
        "\n",
        "    m2 = copy.deepcopy(j)\n",
        "    m2 = rotation(1, 0, m2)[0]\n",
        "\n",
        "    m3 = copy.deepcopy(j)\n",
        "    m3 = rotation(0, 1, m3)[0]\n",
        "\n",
        "    m4 = copy.deepcopy(j)\n",
        "    m4 = rotation(1, 1, m4)[0]\n",
        "\n",
        "    m5 = copy.deepcopy(j)\n",
        "    m5 = rotation(0, 2, m5)[0]\n",
        "\n",
        "    m6 = copy.deepcopy(j)\n",
        "    m6 = rotation(1, 2, m6)[0]\n",
        "\n",
        "    m7 = copy.deepcopy(j)\n",
        "    m7 = rotation(2, 0, m7)[0]\n",
        "\n",
        "    m8 = copy.deepcopy(j)\n",
        "    m8 = rotation(2, 1, m8)[0]\n",
        "\n",
        "    m9 = copy.deepcopy(j)\n",
        "    m9 = rotation(2, 2, m9)[0]\n",
        "\n",
        "    graph[i] = (matricies.index(m1), matricies.index(m2), matricies.index(m3), matricies.index(m4), matricies.index(m5), matricies.index(m6), matricies.index(m7), matricies.index(m8), matricies.index(m9))"
      ],
      "metadata": {
        "id": "KLZnl-p5QyGu"
      },
      "execution_count": null,
      "outputs": []
    },
    {
      "cell_type": "code",
      "source": [
        "def dijkstra(graph, start):\n",
        "    # Initialize distances to all nodes as infinity except for the start node\n",
        "    distances = {node: float('inf') for node in graph}\n",
        "    distances[start] = 0\n",
        "\n",
        "    # Initialize a set to keep track of visited nodes\n",
        "    visited = set()\n",
        "\n",
        "    while len(visited) < len(graph):\n",
        "        # Find the node with the minimum distance from the start node\n",
        "        current_node = None\n",
        "        for node in graph:\n",
        "            if node not in visited and (current_node is None or distances[node] < distances[current_node]):\n",
        "                current_node = node\n",
        "\n",
        "        # If all remaining unvisited nodes are unreachable, break\n",
        "        if distances[current_node] == float('inf'):\n",
        "            break\n",
        "\n",
        "        visited.add(current_node)\n",
        "\n",
        "        # Update distances to neighbors of the current node\n",
        "        for neighbor in graph[current_node]:\n",
        "            distance = distances[current_node] + 1  # Assuming an unweighted graph\n",
        "            if distance < distances[neighbor]:\n",
        "                distances[neighbor] = distance\n",
        "\n",
        "    return distances"
      ],
      "metadata": {
        "id": "a5ofsOtyQyJD"
      },
      "execution_count": null,
      "outputs": []
    },
    {
      "cell_type": "code",
      "source": [
        "start_node = 0\n",
        "shortest_distances = dijkstra(graph, start_node)\n",
        "\n",
        "gods_number = max(shortest_distances.values())\n",
        "\n",
        "print(f\"God's number = {gods_number}\")"
      ],
      "metadata": {
        "id": "7S5ORwbbQyLf"
      },
      "execution_count": null,
      "outputs": []
    },
    {
      "cell_type": "code",
      "source": [],
      "metadata": {
        "id": "UqYDYgl3QyNs"
      },
      "execution_count": null,
      "outputs": []
    },
    {
      "cell_type": "code",
      "source": [],
      "metadata": {
        "id": "D25Es1CMQyP1"
      },
      "execution_count": null,
      "outputs": []
    },
    {
      "cell_type": "code",
      "source": [],
      "metadata": {
        "id": "AF5drhu5QySA"
      },
      "execution_count": null,
      "outputs": []
    },
    {
      "cell_type": "code",
      "source": [],
      "metadata": {
        "id": "PBxZwnHHQyUZ"
      },
      "execution_count": null,
      "outputs": []
    }
  ]
}